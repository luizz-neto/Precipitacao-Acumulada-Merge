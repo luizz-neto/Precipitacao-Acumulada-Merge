{
 "cells": [
  {
   "cell_type": "code",
   "execution_count": null,
   "metadata": {},
   "outputs": [],
   "source": [
    "'''\n",
    "Luiz Soares Neto\n",
    "ICAT/UFAL\n",
    "luizsneto211@gmail.com\n",
    "luiz.neto@icat.ufal.br\n",
    "Last updated on april 02, 2025\n",
    "'''"
   ]
  },
  {
   "cell_type": "code",
   "execution_count": null,
   "metadata": {},
   "outputs": [],
   "source": [
    "''''\n",
    "Descobri a biblioteca BeautifulSoup e assisti a uma videoaula sobre seu uso e seus principais comandos. \n",
    "Além disso, utilizei uma inteligência artificial para auxiliar na compreensão de alguns \n",
    "comandos com os quais eu ainda não tinha familiaridade, como a criação de diretórios utilizando a biblioteca os.\n",
    "'''"
   ]
  },
  {
   "cell_type": "code",
   "execution_count": 4,
   "metadata": {},
   "outputs": [],
   "source": [
    "########################################### BIBLIOTECAS UTILIZADAS ###########################################\n",
    "\n",
    "import os # (os) Usado pra manipular arquivos e pastas dentro da maquina, tipo criar pasta ou excluir um arquivo\n",
    "\n",
    "# Essas duas foram usadas na hora de obter informações do site e baixar os arquivos\n",
    "import requests\n",
    "from bs4 import BeautifulSoup\n",
    "import xarray as xr  # Manipulação de dados NetCDF e GRIB"
   ]
  },
  {
   "cell_type": "code",
   "execution_count": null,
   "metadata": {},
   "outputs": [
    {
     "name": "stdout",
     "output_type": "stream",
     "text": [
      "O site https://ftp.cptec.inpe.br/modelos/tempo/MERGE/GPM/DAILY/2025/03/ existe\n",
      "Baixando MERGE_CPTEC_20250315.grib2\n",
      "MERGE_CPTEC_20250315.grib2 baixado com sucesso em dados\\2025\\03\\MERGE_CPTEC_20250315.grib2\n",
      "Baixando MERGE_CPTEC_20250316.grib2\n",
      "MERGE_CPTEC_20250316.grib2 baixado com sucesso em dados\\2025\\03\\MERGE_CPTEC_20250316.grib2\n",
      "Baixando MERGE_CPTEC_20250317.grib2\n",
      "MERGE_CPTEC_20250317.grib2 baixado com sucesso em dados\\2025\\03\\MERGE_CPTEC_20250317.grib2\n",
      "Baixando MERGE_CPTEC_20250318.grib2\n",
      "MERGE_CPTEC_20250318.grib2 baixado com sucesso em dados\\2025\\03\\MERGE_CPTEC_20250318.grib2\n",
      "Baixando MERGE_CPTEC_20250319.grib2\n",
      "MERGE_CPTEC_20250319.grib2 baixado com sucesso em dados\\2025\\03\\MERGE_CPTEC_20250319.grib2\n",
      "Baixando MERGE_CPTEC_20250320.grib2\n",
      "MERGE_CPTEC_20250320.grib2 baixado com sucesso em dados\\2025\\03\\MERGE_CPTEC_20250320.grib2\n",
      "Baixando MERGE_CPTEC_20250321.grib2\n",
      "MERGE_CPTEC_20250321.grib2 baixado com sucesso em dados\\2025\\03\\MERGE_CPTEC_20250321.grib2\n"
     ]
    }
   ],
   "source": [
    "# Definindo os anos, meses e dias desejados\n",
    "anos = [\"2025\"]\n",
    "meses = [\"03\"]\n",
    "dias = [\"15\", '16','17', '18', '19', '20', '21']  \n",
    "\n",
    "# Buscando as informações definidas acima, no proprio site\n",
    "for ano in anos:\n",
    "    for mes in meses:\n",
    "        url= f\"https://ftp.cptec.inpe.br/modelos/tempo/MERGE/GPM/DAILY/{ano}/{mes}/\"\n",
    "        response = requests.get(url)\n",
    "        # Impondo algumas condições que deveram ser satisfeitas para o funcionamento do script\n",
    "        if response.status_code == 200: # 200 é um codigo que significa que o site esta funcional basicamente \n",
    "            print(f\"O site {url} existe\")\n",
    "            soup = BeautifulSoup(response.text, 'html.parser')\n",
    "            \n",
    "            # Para filtrar arquivos pelo dia/mes/ano desejados fiz o seguinte:\n",
    "            #Quando abrimos o link que foi mandado no exercicio, podemos inspecionar a pagina\n",
    "            #fazendo isso vimos que todos os dados tem um link que começa com a tag <a> por isso usei o soup.find_all('a')\n",
    "            #O link.get('href') serve pra pegar apenas o que esta depois do href que seria a parte que tem escrito a data, o tipo do arquivo e etc\n",
    "            # Aqui está o que aparece de fato no site quando inspecionamos <a href=\"MERGE_CPTEC_20250301.grib2\"\n",
    "            # O if usei pra pegar apenas os arquivos que terminassem com .grib2, ja que no site tem outros tipos.\n",
    "            # Por fim, filtro os dia que eu quero baixar.\n",
    "            files = [link.get('href') for link in soup.find_all('a')\n",
    "                     if link.get('href').endswith('.grib2') and any(f\"{ano}{mes}{dia}\" in link.get('href') for dia in dias)]\n",
    "            \n",
    "            \n",
    "            \n",
    "            # Aqui basicamento foram criadas as pastas com anos e meses pra ficar mais organizados\n",
    "            ano_dir = os.path.join('dados', ano)\n",
    "            os.makedirs(ano_dir, exist_ok=True)\n",
    "            \n",
    "            mes_dir = os.path.join(ano_dir, mes)\n",
    "            os.makedirs(mes_dir, exist_ok=True)\n",
    "            \n",
    "            #For files, basicamente foi usado pra baixar todos os arquivos no link que foi usado, dentro das condições impostas anteriormente\n",
    "            for file in files:\n",
    "                file_path = os.path.join(mes_dir, file)\n",
    "                \n",
    "                print(f'Baixando {file}')\n",
    "                with open(file_path, 'wb') as f:\n",
    "                    f.write(requests.get(url + file).content)\n",
    "                print(f'{file} baixado com sucesso em {file_path}')\n",
    "        else:\n",
    "            print(f\"O site {url} não existe\")\n",
    "            break"
   ]
  }
 ],
 "metadata": {
  "kernelspec": {
   "display_name": "base",
   "language": "python",
   "name": "python3"
  },
  "language_info": {
   "codemirror_mode": {
    "name": "ipython",
    "version": 3
   },
   "file_extension": ".py",
   "mimetype": "text/x-python",
   "name": "python",
   "nbconvert_exporter": "python",
   "pygments_lexer": "ipython3",
   "version": "3.11.7"
  }
 },
 "nbformat": 4,
 "nbformat_minor": 2
}
